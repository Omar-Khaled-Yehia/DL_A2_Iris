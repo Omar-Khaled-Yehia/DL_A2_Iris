{
  "nbformat": 4,
  "nbformat_minor": 0,
  "metadata": {
    "colab": {
      "provenance": []
    },
    "kernelspec": {
      "name": "python3",
      "display_name": "Python 3"
    },
    "language_info": {
      "name": "python"
    }
  },
  "cells": [
    {
      "cell_type": "code",
      "execution_count": 149,
      "metadata": {
        "id": "Af2ySIDwO0pQ"
      },
      "outputs": [],
      "source": [
        "import torch\n",
        "import torch.nn as nn\n",
        "import torch.optim as optim\n",
        "import torch.utils.data as data\n",
        "from sklearn.datasets import load_iris\n",
        "from sklearn.model_selection import train_test_split\n",
        "from sklearn.preprocessing import StandardScaler\n",
        "from sklearn.metrics import accuracy_score, classification_report, confusion_matrix, roc_auc_score, roc_curve\n",
        "import numpy as np\n",
        "import pandas as pd\n",
        "import matplotlib.pyplot as plt"
      ]
    },
    {
      "cell_type": "code",
      "source": [
        "df = pd.read_csv('iris - iris.csv')"
      ],
      "metadata": {
        "id": "qzVvmPFBO9gO"
      },
      "execution_count": 150,
      "outputs": []
    },
    {
      "cell_type": "code",
      "source": [
        "df.head()"
      ],
      "metadata": {
        "colab": {
          "base_uri": "https://localhost:8080/",
          "height": 206
        },
        "id": "sXZ6NlAxPHdz",
        "outputId": "fc6a1128-ef86-4d87-de4f-1eb2dffb5dff"
      },
      "execution_count": 151,
      "outputs": [
        {
          "output_type": "execute_result",
          "data": {
            "text/plain": [
              "   sepal_length  sepal_width  petal_length  petal_width      species\n",
              "0           5.1          3.5           1.4          0.2  Iris-setosa\n",
              "1           4.9          3.0           1.4          0.2  Iris-setosa\n",
              "2           4.7          3.2           1.3          0.2  Iris-setosa\n",
              "3           4.6          3.1           1.5          0.2  Iris-setosa\n",
              "4           5.0          3.6           1.4          0.2  Iris-setosa"
            ],
            "text/html": [
              "<div>\n",
              "<style scoped>\n",
              "    .dataframe tbody tr th:only-of-type {\n",
              "        vertical-align: middle;\n",
              "    }\n",
              "\n",
              "    .dataframe tbody tr th {\n",
              "        vertical-align: top;\n",
              "    }\n",
              "\n",
              "    .dataframe thead th {\n",
              "        text-align: right;\n",
              "    }\n",
              "</style>\n",
              "<table border=\"1\" class=\"dataframe\">\n",
              "  <thead>\n",
              "    <tr style=\"text-align: right;\">\n",
              "      <th></th>\n",
              "      <th>sepal_length</th>\n",
              "      <th>sepal_width</th>\n",
              "      <th>petal_length</th>\n",
              "      <th>petal_width</th>\n",
              "      <th>species</th>\n",
              "    </tr>\n",
              "  </thead>\n",
              "  <tbody>\n",
              "    <tr>\n",
              "      <th>0</th>\n",
              "      <td>5.1</td>\n",
              "      <td>3.5</td>\n",
              "      <td>1.4</td>\n",
              "      <td>0.2</td>\n",
              "      <td>Iris-setosa</td>\n",
              "    </tr>\n",
              "    <tr>\n",
              "      <th>1</th>\n",
              "      <td>4.9</td>\n",
              "      <td>3.0</td>\n",
              "      <td>1.4</td>\n",
              "      <td>0.2</td>\n",
              "      <td>Iris-setosa</td>\n",
              "    </tr>\n",
              "    <tr>\n",
              "      <th>2</th>\n",
              "      <td>4.7</td>\n",
              "      <td>3.2</td>\n",
              "      <td>1.3</td>\n",
              "      <td>0.2</td>\n",
              "      <td>Iris-setosa</td>\n",
              "    </tr>\n",
              "    <tr>\n",
              "      <th>3</th>\n",
              "      <td>4.6</td>\n",
              "      <td>3.1</td>\n",
              "      <td>1.5</td>\n",
              "      <td>0.2</td>\n",
              "      <td>Iris-setosa</td>\n",
              "    </tr>\n",
              "    <tr>\n",
              "      <th>4</th>\n",
              "      <td>5.0</td>\n",
              "      <td>3.6</td>\n",
              "      <td>1.4</td>\n",
              "      <td>0.2</td>\n",
              "      <td>Iris-setosa</td>\n",
              "    </tr>\n",
              "  </tbody>\n",
              "</table>\n",
              "</div>"
            ]
          },
          "metadata": {},
          "execution_count": 151
        }
      ]
    },
    {
      "cell_type": "code",
      "source": [
        "df.info()"
      ],
      "metadata": {
        "colab": {
          "base_uri": "https://localhost:8080/"
        },
        "id": "z0SIRHPMPK9z",
        "outputId": "f5363d85-bf5f-4d71-b2ad-a97397bb5973"
      },
      "execution_count": 152,
      "outputs": [
        {
          "output_type": "stream",
          "name": "stdout",
          "text": [
            "<class 'pandas.core.frame.DataFrame'>\n",
            "RangeIndex: 150 entries, 0 to 149\n",
            "Data columns (total 5 columns):\n",
            " #   Column        Non-Null Count  Dtype  \n",
            "---  ------        --------------  -----  \n",
            " 0   sepal_length  150 non-null    float64\n",
            " 1   sepal_width   150 non-null    float64\n",
            " 2   petal_length  150 non-null    float64\n",
            " 3   petal_width   150 non-null    float64\n",
            " 4   species       150 non-null    object \n",
            "dtypes: float64(4), object(1)\n",
            "memory usage: 6.0+ KB\n"
          ]
        }
      ]
    },
    {
      "cell_type": "code",
      "source": [
        "df.describe()"
      ],
      "metadata": {
        "colab": {
          "base_uri": "https://localhost:8080/",
          "height": 300
        },
        "id": "xxLcbHcePL9R",
        "outputId": "cd72b7fc-1a46-4ff5-eb55-f1cc1a5f1427"
      },
      "execution_count": 153,
      "outputs": [
        {
          "output_type": "execute_result",
          "data": {
            "text/plain": [
              "       sepal_length  sepal_width  petal_length  petal_width\n",
              "count    150.000000   150.000000    150.000000   150.000000\n",
              "mean       5.843333     3.054000      3.758667     1.198667\n",
              "std        0.828066     0.433594      1.764420     0.763161\n",
              "min        4.300000     2.000000      1.000000     0.100000\n",
              "25%        5.100000     2.800000      1.600000     0.300000\n",
              "50%        5.800000     3.000000      4.350000     1.300000\n",
              "75%        6.400000     3.300000      5.100000     1.800000\n",
              "max        7.900000     4.400000      6.900000     2.500000"
            ],
            "text/html": [
              "<div>\n",
              "<style scoped>\n",
              "    .dataframe tbody tr th:only-of-type {\n",
              "        vertical-align: middle;\n",
              "    }\n",
              "\n",
              "    .dataframe tbody tr th {\n",
              "        vertical-align: top;\n",
              "    }\n",
              "\n",
              "    .dataframe thead th {\n",
              "        text-align: right;\n",
              "    }\n",
              "</style>\n",
              "<table border=\"1\" class=\"dataframe\">\n",
              "  <thead>\n",
              "    <tr style=\"text-align: right;\">\n",
              "      <th></th>\n",
              "      <th>sepal_length</th>\n",
              "      <th>sepal_width</th>\n",
              "      <th>petal_length</th>\n",
              "      <th>petal_width</th>\n",
              "    </tr>\n",
              "  </thead>\n",
              "  <tbody>\n",
              "    <tr>\n",
              "      <th>count</th>\n",
              "      <td>150.000000</td>\n",
              "      <td>150.000000</td>\n",
              "      <td>150.000000</td>\n",
              "      <td>150.000000</td>\n",
              "    </tr>\n",
              "    <tr>\n",
              "      <th>mean</th>\n",
              "      <td>5.843333</td>\n",
              "      <td>3.054000</td>\n",
              "      <td>3.758667</td>\n",
              "      <td>1.198667</td>\n",
              "    </tr>\n",
              "    <tr>\n",
              "      <th>std</th>\n",
              "      <td>0.828066</td>\n",
              "      <td>0.433594</td>\n",
              "      <td>1.764420</td>\n",
              "      <td>0.763161</td>\n",
              "    </tr>\n",
              "    <tr>\n",
              "      <th>min</th>\n",
              "      <td>4.300000</td>\n",
              "      <td>2.000000</td>\n",
              "      <td>1.000000</td>\n",
              "      <td>0.100000</td>\n",
              "    </tr>\n",
              "    <tr>\n",
              "      <th>25%</th>\n",
              "      <td>5.100000</td>\n",
              "      <td>2.800000</td>\n",
              "      <td>1.600000</td>\n",
              "      <td>0.300000</td>\n",
              "    </tr>\n",
              "    <tr>\n",
              "      <th>50%</th>\n",
              "      <td>5.800000</td>\n",
              "      <td>3.000000</td>\n",
              "      <td>4.350000</td>\n",
              "      <td>1.300000</td>\n",
              "    </tr>\n",
              "    <tr>\n",
              "      <th>75%</th>\n",
              "      <td>6.400000</td>\n",
              "      <td>3.300000</td>\n",
              "      <td>5.100000</td>\n",
              "      <td>1.800000</td>\n",
              "    </tr>\n",
              "    <tr>\n",
              "      <th>max</th>\n",
              "      <td>7.900000</td>\n",
              "      <td>4.400000</td>\n",
              "      <td>6.900000</td>\n",
              "      <td>2.500000</td>\n",
              "    </tr>\n",
              "  </tbody>\n",
              "</table>\n",
              "</div>"
            ]
          },
          "metadata": {},
          "execution_count": 153
        }
      ]
    },
    {
      "cell_type": "code",
      "source": [
        "df.isna().sum()"
      ],
      "metadata": {
        "colab": {
          "base_uri": "https://localhost:8080/"
        },
        "id": "CkrA2k4zPM7b",
        "outputId": "a81fbe00-9452-479f-b6f7-a74afec3f13c"
      },
      "execution_count": 154,
      "outputs": [
        {
          "output_type": "execute_result",
          "data": {
            "text/plain": [
              "sepal_length    0\n",
              "sepal_width     0\n",
              "petal_length    0\n",
              "petal_width     0\n",
              "species         0\n",
              "dtype: int64"
            ]
          },
          "metadata": {},
          "execution_count": 154
        }
      ]
    },
    {
      "cell_type": "code",
      "source": [
        "X = df.drop('species', axis=1)\n",
        "y = df['species']"
      ],
      "metadata": {
        "id": "parrkDbDPTky"
      },
      "execution_count": 155,
      "outputs": []
    },
    {
      "cell_type": "code",
      "source": [
        "# Normalize the features\n",
        "scaler = StandardScaler()\n",
        "X = scaler.fit_transform(X)"
      ],
      "metadata": {
        "id": "yHpjwTKkP-OE"
      },
      "execution_count": 156,
      "outputs": []
    },
    {
      "cell_type": "code",
      "source": [
        "# Split into train and test sets\n",
        "X_train, X_test, y_train, y_test = train_test_split(X, y, test_size=0.2, random_state=42)"
      ],
      "metadata": {
        "id": "uFs5uBgYQAtn"
      },
      "execution_count": 157,
      "outputs": []
    },
    {
      "cell_type": "code",
      "source": [
        "# Convert the data to PyTorch tensors\n",
        "X_train = torch.tensor(X_train, dtype=torch.float32)\n",
        "X_test = torch.tensor(X_test, dtype=torch.float32)\n",
        "\n",
        "# Convert string labels to numerical labels using LabelEncoder\n",
        "from sklearn.preprocessing import LabelEncoder\n",
        "le = LabelEncoder()\n",
        "y_train = le.fit_transform(y_train)  # Fit and transform on training data\n",
        "y_test = le.transform(y_test)       # Transform test data using the fitted encoder\n",
        "\n",
        "y_train = torch.tensor(y_train, dtype=torch.long)\n",
        "y_test = torch.tensor(y_test, dtype=torch.long)"
      ],
      "metadata": {
        "id": "kgjXPXpwQC0V"
      },
      "execution_count": 158,
      "outputs": []
    },
    {
      "cell_type": "code",
      "source": [
        "# Define the neural network model\n",
        "class IrisNet(nn.Module):\n",
        "    def __init__(self):\n",
        "        super(IrisNet, self).__init__()\n",
        "        self.fc1 = nn.Linear(4, 64)\n",
        "        self.fc2 = nn.Linear(64, 32)\n",
        "        self.fc3 = nn.Linear(32, 16)\n",
        "        self.fc4 = nn.Linear(16, 3) # 3 output classes for multiclass\n",
        "\n",
        "    def forward(self, x):\n",
        "        x = torch.relu(self.fc1(x))\n",
        "        x = torch.relu(self.fc2(x))\n",
        "        x = torch.relu(self.fc3(x))\n",
        "        x = self.fc4(x)  # no activation here because CrossEntropyLoss includes softmax\n",
        "        return x"
      ],
      "metadata": {
        "id": "lswddK1yQFG0"
      },
      "execution_count": 159,
      "outputs": []
    },
    {
      "cell_type": "code",
      "source": [
        "# Initialize the model, loss function, and optimizer\n",
        "model = IrisNet()\n",
        "criterion = nn.CrossEntropyLoss()\n",
        "optimizer = optim.Adam(model.parameters(), lr=0.001)"
      ],
      "metadata": {
        "id": "CDWwk9ygQljT"
      },
      "execution_count": 160,
      "outputs": []
    },
    {
      "cell_type": "code",
      "source": [
        "# Early stopping parameters\n",
        "patience = 4  # Number of epochs to wait for improvement\n",
        "min_delta = 0.0001  # Minimum change in validation loss to qualify as an improvement\n",
        "best_val_loss = float('inf')\n",
        "patience_counter = 0\n",
        "\n",
        "# Training loop\n",
        "num_epochs = 1000\n",
        "train_losses = []\n",
        "val_losses = []\n",
        "\n",
        "for epoch in range(num_epochs):\n",
        "    model.train()\n",
        "\n",
        "    # Forward pass (training)\n",
        "    outputs = model(X_train)\n",
        "    loss = criterion(outputs, y_train)\n",
        "    train_losses.append(loss.item())\n",
        "\n",
        "    # Backward and optimize\n",
        "    optimizer.zero_grad()\n",
        "    loss.backward()\n",
        "    optimizer.step()\n",
        "\n",
        "    # Validation (every 10 epochs)\n",
        "    if (epoch + 1) % 10 == 0:\n",
        "        model.eval()\n",
        "        with torch.no_grad():\n",
        "            val_outputs = model(X_test)\n",
        "            val_loss = criterion(val_outputs, y_test)\n",
        "            val_losses.append(val_loss.item())\n",
        "\n",
        "        print(f'Epoch [{epoch+1}/{num_epochs}], Train Loss: {loss.item():.4f}, Val Loss: {val_loss.item():.4f}')\n",
        "\n",
        "        # Early stopping check\n",
        "        if val_loss < best_val_loss - min_delta:\n",
        "            best_val_loss = val_loss\n",
        "            patience_counter = 0\n",
        "            # Save the best model\n",
        "            torch.save(model.state_dict(), 'best_model.pth')\n",
        "        else:\n",
        "            patience_counter += 1\n",
        "\n",
        "        if patience_counter >= patience:\n",
        "            print(f'Early stopping triggered at epoch {epoch+1}')\n",
        "            break\n",
        "\n",
        "# Load the best model after training\n",
        "model.load_state_dict(torch.load('best_model.pth'))"
      ],
      "metadata": {
        "colab": {
          "base_uri": "https://localhost:8080/"
        },
        "id": "W88dX7OOQnvK",
        "outputId": "2d85584b-672d-4f51-ad12-e31adf4c2819"
      },
      "execution_count": 161,
      "outputs": [
        {
          "output_type": "stream",
          "name": "stdout",
          "text": [
            "Epoch [10/1000], Train Loss: 1.0701, Val Loss: 1.0684\n",
            "Epoch [20/1000], Train Loss: 1.0174, Val Loss: 1.0113\n",
            "Epoch [30/1000], Train Loss: 0.9282, Val Loss: 0.9134\n",
            "Epoch [40/1000], Train Loss: 0.8061, Val Loss: 0.7821\n",
            "Epoch [50/1000], Train Loss: 0.6639, Val Loss: 0.6320\n",
            "Epoch [60/1000], Train Loss: 0.5368, Val Loss: 0.4993\n",
            "Epoch [70/1000], Train Loss: 0.4489, Val Loss: 0.4097\n",
            "Epoch [80/1000], Train Loss: 0.3851, Val Loss: 0.3450\n",
            "Epoch [90/1000], Train Loss: 0.3299, Val Loss: 0.2858\n",
            "Epoch [100/1000], Train Loss: 0.2784, Val Loss: 0.2315\n",
            "Epoch [110/1000], Train Loss: 0.2302, Val Loss: 0.1839\n",
            "Epoch [120/1000], Train Loss: 0.1856, Val Loss: 0.1443\n",
            "Epoch [130/1000], Train Loss: 0.1481, Val Loss: 0.1141\n",
            "Epoch [140/1000], Train Loss: 0.1190, Val Loss: 0.0910\n",
            "Epoch [150/1000], Train Loss: 0.0980, Val Loss: 0.0735\n",
            "Epoch [160/1000], Train Loss: 0.0831, Val Loss: 0.0601\n",
            "Epoch [170/1000], Train Loss: 0.0724, Val Loss: 0.0501\n",
            "Epoch [180/1000], Train Loss: 0.0646, Val Loss: 0.0427\n",
            "Epoch [190/1000], Train Loss: 0.0587, Val Loss: 0.0371\n",
            "Epoch [200/1000], Train Loss: 0.0542, Val Loss: 0.0327\n",
            "Epoch [210/1000], Train Loss: 0.0505, Val Loss: 0.0292\n",
            "Epoch [220/1000], Train Loss: 0.0475, Val Loss: 0.0263\n",
            "Epoch [230/1000], Train Loss: 0.0451, Val Loss: 0.0240\n",
            "Epoch [240/1000], Train Loss: 0.0431, Val Loss: 0.0221\n",
            "Epoch [250/1000], Train Loss: 0.0415, Val Loss: 0.0207\n",
            "Epoch [260/1000], Train Loss: 0.0401, Val Loss: 0.0195\n",
            "Epoch [270/1000], Train Loss: 0.0388, Val Loss: 0.0181\n",
            "Epoch [280/1000], Train Loss: 0.0376, Val Loss: 0.0172\n",
            "Epoch [290/1000], Train Loss: 0.0365, Val Loss: 0.0164\n",
            "Epoch [300/1000], Train Loss: 0.0355, Val Loss: 0.0155\n",
            "Epoch [310/1000], Train Loss: 0.0344, Val Loss: 0.0148\n",
            "Epoch [320/1000], Train Loss: 0.0335, Val Loss: 0.0142\n",
            "Epoch [330/1000], Train Loss: 0.0325, Val Loss: 0.0136\n",
            "Epoch [340/1000], Train Loss: 0.0316, Val Loss: 0.0130\n",
            "Epoch [350/1000], Train Loss: 0.0307, Val Loss: 0.0127\n",
            "Epoch [360/1000], Train Loss: 0.0298, Val Loss: 0.0122\n",
            "Epoch [370/1000], Train Loss: 0.0289, Val Loss: 0.0117\n",
            "Epoch [380/1000], Train Loss: 0.0279, Val Loss: 0.0112\n",
            "Epoch [390/1000], Train Loss: 0.0270, Val Loss: 0.0108\n",
            "Epoch [400/1000], Train Loss: 0.0260, Val Loss: 0.0104\n",
            "Epoch [410/1000], Train Loss: 0.0250, Val Loss: 0.0100\n",
            "Epoch [420/1000], Train Loss: 0.0240, Val Loss: 0.0098\n",
            "Epoch [430/1000], Train Loss: 0.0230, Val Loss: 0.0094\n",
            "Epoch [440/1000], Train Loss: 0.0219, Val Loss: 0.0091\n",
            "Epoch [450/1000], Train Loss: 0.0208, Val Loss: 0.0089\n",
            "Epoch [460/1000], Train Loss: 0.0197, Val Loss: 0.0087\n",
            "Epoch [470/1000], Train Loss: 0.0186, Val Loss: 0.0083\n",
            "Epoch [480/1000], Train Loss: 0.0176, Val Loss: 0.0080\n",
            "Epoch [490/1000], Train Loss: 0.0165, Val Loss: 0.0078\n",
            "Epoch [500/1000], Train Loss: 0.0155, Val Loss: 0.0076\n",
            "Epoch [510/1000], Train Loss: 0.0144, Val Loss: 0.0073\n",
            "Epoch [520/1000], Train Loss: 0.0134, Val Loss: 0.0072\n",
            "Epoch [530/1000], Train Loss: 0.0125, Val Loss: 0.0070\n",
            "Epoch [540/1000], Train Loss: 0.0115, Val Loss: 0.0068\n",
            "Epoch [550/1000], Train Loss: 0.0107, Val Loss: 0.0066\n",
            "Epoch [560/1000], Train Loss: 0.0098, Val Loss: 0.0065\n",
            "Epoch [570/1000], Train Loss: 0.0091, Val Loss: 0.0063\n",
            "Epoch [580/1000], Train Loss: 0.0084, Val Loss: 0.0062\n",
            "Epoch [590/1000], Train Loss: 0.0077, Val Loss: 0.0061\n",
            "Epoch [600/1000], Train Loss: 0.0071, Val Loss: 0.0060\n",
            "Epoch [610/1000], Train Loss: 0.0066, Val Loss: 0.0059\n",
            "Epoch [620/1000], Train Loss: 0.0061, Val Loss: 0.0057\n",
            "Epoch [630/1000], Train Loss: 0.0057, Val Loss: 0.0056\n",
            "Epoch [640/1000], Train Loss: 0.0052, Val Loss: 0.0056\n",
            "Epoch [650/1000], Train Loss: 0.0049, Val Loss: 0.0055\n",
            "Epoch [660/1000], Train Loss: 0.0045, Val Loss: 0.0054\n",
            "Epoch [670/1000], Train Loss: 0.0042, Val Loss: 0.0054\n",
            "Epoch [680/1000], Train Loss: 0.0039, Val Loss: 0.0054\n",
            "Epoch [690/1000], Train Loss: 0.0037, Val Loss: 0.0055\n",
            "Early stopping triggered at epoch 690\n"
          ]
        },
        {
          "output_type": "stream",
          "name": "stderr",
          "text": [
            "C:\\Users\\Dell\\AppData\\Local\\Temp\\ipykernel_15416\\969155656.py:49: FutureWarning: You are using `torch.load` with `weights_only=False` (the current default value), which uses the default pickle module implicitly. It is possible to construct malicious pickle data which will execute arbitrary code during unpickling (See https://github.com/pytorch/pytorch/blob/main/SECURITY.md#untrusted-models for more details). In a future release, the default value for `weights_only` will be flipped to `True`. This limits the functions that could be executed during unpickling. Arbitrary objects will no longer be allowed to be loaded via this mode unless they are explicitly allowlisted by the user via `torch.serialization.add_safe_globals`. We recommend you start setting `weights_only=True` for any use case where you don't have full control of the loaded file. Please open an issue on GitHub for any issues related to this experimental feature.\n",
            "  model.load_state_dict(torch.load('best_model.pth'))\n"
          ]
        },
        {
          "output_type": "execute_result",
          "data": {
            "text/plain": [
              "<All keys matched successfully>"
            ]
          },
          "metadata": {},
          "execution_count": 161
        }
      ]
    },
    {
      "cell_type": "code",
      "source": [
        "# Plot the training and validation losses\n",
        "plt.plot(train_losses, label='Training Loss')\n",
        "# Adjust x-axis data for validation loss to match the actual number of validation loss values\n",
        "plt.plot(range(0, len(train_losses), int(len(train_losses) / len(val_losses))), val_losses, label='Validation Loss')\n",
        "plt.xlabel('Epoch')\n",
        "plt.ylabel('Loss')\n",
        "plt.title('Training and Validation Loss')\n",
        "plt.legend()\n",
        "plt.show()"
      ],
      "metadata": {
        "colab": {
          "base_uri": "https://localhost:8080/",
          "height": 472
        },
        "id": "cH9m4t2lGi5n",
        "outputId": "ea4d8bbd-3e13-4f04-d3fd-dda0e3ef352f"
      },
      "execution_count": 162,
      "outputs": [
        {
          "output_type": "display_data",
          "data": {
            "text/plain": [
              "<Figure size 640x480 with 1 Axes>"
            ],
            "image/png": "[encoded data removed]"
          },
          "metadata": {}
        }
      ]
    },
    {
      "cell_type": "code",
      "source": [
        "# Evaluation\n",
        "model.eval()\n",
        "with torch.no_grad():\n",
        "    y_pred = model(X_test)\n",
        "    _, y_pred_classes = torch.max(y_pred, 1)\n",
        "\n",
        "# Calculate accuracy\n",
        "accuracy = accuracy_score(y_test, y_pred_classes)\n",
        "print(f\"Accuracy: {accuracy*100:.2f}%\")\n",
        "\n",
        "# Classification report and confusion matrix\n",
        "print(\"\\nClassification Report:\")\n",
        "print(classification_report(y_test, y_pred_classes))\n",
        "\n",
        "print(\"\\nConfusion Matrix:\")\n",
        "print(confusion_matrix(y_test, y_pred_classes))\n",
        "\n",
        "# Calculate ROC AUC for each class (One-vs-Rest)\n",
        "y_test_np = y_test.numpy()\n",
        "y_pred_np = torch.softmax(y_pred, dim=1).numpy()\n",
        "\n",
        "roc_auc_ovr = roc_auc_score(y_test_np, y_pred_np, multi_class='ovr')\n",
        "print(f\"ROC-AUC (One-vs-Rest): {roc_auc_ovr:.2f}\")\n",
        "\n",
        "# ROC curve for each class\n",
        "for i in range(3):\n",
        "    fpr, tpr, _ = roc_curve(y_test_np == i, y_pred_np[:, i])\n",
        "    plt.plot(fpr, tpr, label=f\"Class {i}\")\n",
        "plt.xlabel(\"False Positive Rate\")\n",
        "plt.ylabel(\"True Positive Rate\")\n",
        "plt.title(\"ROC Curves for Iris Classification (OvR)\")\n",
        "plt.legend()\n",
        "plt.show()"
      ],
      "metadata": {
        "colab": {
          "base_uri": "https://localhost:8080/",
          "height": 802
        },
        "id": "jB4r_fwsQqYD",
        "outputId": "32e719b1-917b-4001-de70-a2e0dabed8c7"
      },
      "execution_count": 163,
      "outputs": [
        {
          "output_type": "stream",
          "name": "stdout",
          "text": [
            "Accuracy: 100.00%\n",
            "\n",
            "Classification Report:\n",
            "              precision    recall  f1-score   support\n",
            "\n",
            "           0       1.00      1.00      1.00        10\n",
            "           1       1.00      1.00      1.00         9\n",
            "           2       1.00      1.00      1.00        11\n",
            "\n",
            "    accuracy                           1.00        30\n",
            "   macro avg       1.00      1.00      1.00        30\n",
            "weighted avg       1.00      1.00      1.00        30\n",
            "\n",
            "\n",
            "Confusion Matrix:\n",
            "[[10  0  0]\n",
            " [ 0  9  0]\n",
            " [ 0  0 11]]\n",
            "ROC-AUC (One-vs-Rest): 1.00\n"
          ]
        },
        {
          "output_type": "display_data",
          "data": {
            "text/plain": [
              "<Figure size 640x480 with 1 Axes>"
            ],
            "image/png": "[encoded data removed]"
          },
          "metadata": {}
        }
      ]
    },
    {
      "cell_type": "code",
      "source": [],
      "metadata": {
        "id": "O220x4YwQuqB"
      },
      "execution_count": 163,
      "outputs": []
    }
  ]
}